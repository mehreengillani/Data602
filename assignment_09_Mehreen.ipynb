{
  "nbformat": 4,
  "nbformat_minor": 0,
  "metadata": {
    "colab": {
      "provenance": [],
      "include_colab_link": true
    },
    "kernelspec": {
      "name": "python3",
      "display_name": "Python 3"
    },
    "language_info": {
      "name": "python"
    }
  },
  "cells": [
    {
      "cell_type": "markdown",
      "metadata": {
        "id": "view-in-github",
        "colab_type": "text"
      },
      "source": [
        "<a href=\"https://colab.research.google.com/github/mehreengillani/Data602/blob/main/assignment_09_Mehreen.ipynb\" target=\"_parent\"><img src=\"https://colab.research.google.com/assets/colab-badge.svg\" alt=\"Open In Colab\"/></a>"
      ]
    },
    {
      "cell_type": "markdown",
      "source": [
        "# **Assignment 9**\n",
        "Mehreen Ali Gillani"
      ],
      "metadata": {
        "id": "xqXbEBZtB8-u"
      }
    },
    {
      "cell_type": "code",
      "source": [
        "# core\n",
        "import matplotlib.pyplot as plt\n",
        "import seaborn as sns\n",
        "import plotly.express as px\n",
        "import numpy as np\n",
        "import pandas as pd\n",
        "\n",
        "# ml\n",
        "from sklearn import datasets as ds\n",
        "from sklearn import linear_model as lm\n",
        "from sklearn.neighbors import KNeighborsClassifier as KNN\n",
        "from sklearn.model_selection import train_test_split as tts\n",
        "\n",
        "#plotly or other graphing library"
      ],
      "metadata": {
        "id": "Iqswq2_ak3e-"
      },
      "execution_count": 3,
      "outputs": []
    },
    {
      "cell_type": "code",
      "source": [
        "# Load datasets here once and assign to variables iris and housing\n",
        "\n",
        "iris = ds.load_iris()\n",
        "# The boston dataset has been removed from scikit-learn due to ethical concerns.\n",
        "# We will use the California housing dataset as an alternative.\n",
        "housing = ds.fetch_california_housing()"
      ],
      "metadata": {
        "id": "92pRcki-k3kH"
      },
      "execution_count": 4,
      "outputs": []
    },
    {
      "cell_type": "markdown",
      "source": [
        "**Q1**\n",
        "\n",
        "**Data set: Iris**\n",
        "\n",
        "* Return the first 5 rows of the data including the feature names as column headings in a DataFrame and a\n",
        "separate Python list containing target names"
      ],
      "metadata": {
        "id": "lA9exQg2lFEn"
      }
    },
    {
      "cell_type": "code",
      "source": [
        "iris_df = pd.DataFrame(iris.data, columns=iris.feature_names)\n",
        "\n",
        "# Get target names as list\n",
        "target_names = list(iris.target_names)\n",
        "print(\"First 5 rows:\")\n",
        "print(iris_df.head(5))\n",
        "print(\"\\nTarget names:\", target_names)"
      ],
      "metadata": {
        "id": "1kcEFauAlAxY",
        "colab": {
          "base_uri": "https://localhost:8080/"
        },
        "outputId": "135435ea-bf2a-4bb3-ed02-6f3d4c2d6c10"
      },
      "execution_count": 6,
      "outputs": [
        {
          "output_type": "stream",
          "name": "stdout",
          "text": [
            "First 5 rows:\n",
            "   sepal length (cm)  sepal width (cm)  petal length (cm)  petal width (cm)\n",
            "0                5.1               3.5                1.4               0.2\n",
            "1                4.9               3.0                1.4               0.2\n",
            "2                4.7               3.2                1.3               0.2\n",
            "3                4.6               3.1                1.5               0.2\n",
            "4                5.0               3.6                1.4               0.2\n",
            "\n",
            "Target names: [np.str_('setosa'), np.str_('versicolor'), np.str_('virginica')]\n"
          ]
        }
      ]
    },
    {
      "cell_type": "markdown",
      "source": [
        "**Q2**\n",
        "\n",
        "**Data set: Iris**\n",
        "\n",
        "* Fit the Iris dataset into a kNN model with neighbors=5 and predict the category of observations passed in\n",
        "argument new_observations. Return back the target names of each prediction (and not their encoded values,\n",
        " i.e. return setosa instead of 0)."
      ],
      "metadata": {
        "id": "o2GEIhqzlT-i"
      }
    },
    {
      "cell_type": "code",
      "source": [
        "# define new_observations\n",
        "\n",
        "new_observations = [[5.3, 3.7, 1.7, 0.4], [6.2, 2.5, 4.5, 1.3], [4.2, 2.5, 2.5, 1.7]]\n",
        "\n",
        "# Then predict\n",
        "knn = KNN(n_neighbors=5)\n",
        "knn.fit(iris.data, iris.target)\n",
        "predictions = knn.predict(new_observations) #predict for new_observation\n",
        "result = [iris.target_names[p] for p in predictions] # for each prediction get target name\n",
        "\n",
        "print(result)"
      ],
      "metadata": {
        "id": "QCL1Hqmm-aTn",
        "outputId": "a8cab8b4-0fe1-457b-803f-ea6eddbfa1ee",
        "colab": {
          "base_uri": "https://localhost:8080/"
        }
      },
      "execution_count": 7,
      "outputs": [
        {
          "output_type": "stream",
          "name": "stdout",
          "text": [
            "[np.str_('setosa'), np.str_('versicolor'), np.str_('versicolor')]\n"
          ]
        }
      ]
    },
    {
      "cell_type": "markdown",
      "source": [
        "**Q3**\n",
        "\n",
        "**Data set: Iris**\n",
        "\n",
        "* Split the Iris dataset into a train / test model with the split ratio between the two established by the function parameter split.\n",
        "\n",
        "* Fit KNN with the training data with number of neighbors equal to the function parameter neighbors\n",
        "\n",
        "* Generate and return back an accuracy score using the test data that was split out"
      ],
      "metadata": {
        "id": "aVMa16PflnBv"
      }
    },
    {
      "cell_type": "code",
      "source": [
        "from sklearn.metrics import accuracy_score\n",
        "\n",
        "def get_accuracy(split, neighbors):\n",
        "    X_train, X_test, y_train, y_test = tts(iris.data, iris.target, test_size=split)\n",
        "    knn = KNN(n_neighbors=neighbors)\n",
        "    knn.fit(X_train, y_train)\n",
        "    return knn.score(X_test, y_test)\n"
      ],
      "metadata": {
        "id": "5VIRae0xlA20"
      },
      "execution_count": 8,
      "outputs": []
    },
    {
      "cell_type": "markdown",
      "source": [
        "**Q4**\n",
        "\n",
        "**Data set: Iris**\n",
        "\n",
        "* Generate an overfitting / underfitting curve of kNN each of the testing and training accuracy performance scores series for a range of neighbor (k) values from 1 to 30 and plot the curves (number of neighbors is x-axis, performance score is y-axis on the chart)."
      ],
      "metadata": {
        "id": "GupwxBDVl8n2"
      }
    },
    {
      "cell_type": "code",
      "source": [
        "# Split the data into training set (70%) and test set (30%)\n",
        "X_train, X_test, y_train, y_test = tts(iris.data, iris.target, test_size=0.3)\n",
        "\n",
        "# Create empty lists to store accuracy scores\n",
        "train_scores = []\n",
        "test_scores = []\n",
        "# Create a range of k values from 1 to 30\n",
        "k_range = range(1, 31)\n",
        "\n",
        "# lood through k value 1 to 30\n",
        "for k in k_range:\n",
        "    # Create a kNN model with k neighbors\n",
        "    knn = KNN(n_neighbors=k)\n",
        "    # Train the model using training data\n",
        "    knn.fit(X_train, y_train)\n",
        "    # Calculate accuracy on training data and add to list\n",
        "    train_scores.append(knn.score(X_train, y_train))\n",
        "    # Calculate accuracy on test data and add to list\n",
        "    test_scores.append(knn.score(X_test, y_test))\n",
        "# Plot training scores as a line\n",
        "plt.plot(k_range, train_scores, label='Training Score')\n",
        "# Plot test scores as a line\n",
        "plt.plot(k_range, test_scores, label='Test Score')\n",
        "# Label the x-axis\n",
        "plt.xlabel('Number of Neighbors (k)')\n",
        "# Label the y-axis\n",
        "plt.ylabel('Accuracy Score')\n",
        "plt.legend()\n",
        "plt.show()"
      ],
      "metadata": {
        "id": "M-6Ig8_QlA6J",
        "colab": {
          "base_uri": "https://localhost:8080/",
          "height": 449
        },
        "outputId": "3e747465-7d9c-46c6-bf81-37ebd82a8b15"
      },
      "execution_count": 9,
      "outputs": [
        {
          "output_type": "display_data",
          "data": {
            "text/plain": [
              "<Figure size 640x480 with 1 Axes>"
            ],
            "image/png": "[encoded data removed]"
          },
          "metadata": {}
        }
      ]
    },
    {
      "cell_type": "code",
      "source": [
        "# Create a table with k values and both scores\n",
        "results = pd.DataFrame({\n",
        "    'k': k_range,\n",
        "    'train_score': train_scores,\n",
        "    'test_score': test_scores\n",
        "})\n",
        "\n",
        "# Calculate the difference between train and test scores\n",
        "results['difference'] = abs(results['train_score'] - results['test_score'])\n",
        "\n",
        "# Find k values with smallest difference (most balanced)\n",
        "min_diff = results['difference'].min()\n",
        "best_balanced_k = results[results['difference'] == min_diff]\n",
        "\n",
        "print(\"K values with minimum difference between train and test scores:\")\n",
        "print(best_balanced_k)"
      ],
      "metadata": {
        "colab": {
          "base_uri": "https://localhost:8080/"
        },
        "id": "SGIbzWdgEOhg",
        "outputId": "b8cb5c00-07f7-482f-fcfb-db59ea83017d"
      },
      "execution_count": 10,
      "outputs": [
        {
          "output_type": "stream",
          "name": "stdout",
          "text": [
            "K values with minimum difference between train and test scores:\n",
            "   k  train_score  test_score  difference\n",
            "6  7     0.980952    0.977778    0.003175\n"
          ]
        }
      ]
    },
    {
      "cell_type": "markdown",
      "source": [
        "What the chart shows:\n",
        "\n",
        "When k=1: High training accuracy, lower test accuracy = Overfitting\n",
        "When k=30: Lower training accuracy, lower test accuracy = Underfitting\n",
        "The best k is where test accuracy is highest (usually when k=6,7)"
      ],
      "metadata": {
        "id": "TqKbj0fJDoiY"
      }
    },
    {
      "cell_type": "code",
      "source": [],
      "metadata": {
        "id": "-Qi-PJvxlA8O"
      },
      "execution_count": null,
      "outputs": []
    },
    {
      "cell_type": "code",
      "source": [],
      "metadata": {
        "id": "CDFVf0vxmSMo"
      },
      "execution_count": null,
      "outputs": []
    },
    {
      "cell_type": "code",
      "source": [],
      "metadata": {
        "id": "02DsBMnDmmXC"
      },
      "execution_count": null,
      "outputs": []
    }
  ]
}