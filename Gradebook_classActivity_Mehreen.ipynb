{
  "nbformat": 4,
  "nbformat_minor": 0,
  "metadata": {
    "colab": {
      "provenance": [],
      "authorship_tag": "ABX9TyMlmhwbgQ39CuWAelFP2mcq",
      "include_colab_link": true
    },
    "kernelspec": {
      "name": "python3",
      "display_name": "Python 3"
    },
    "language_info": {
      "name": "python"
    }
  },
  "cells": [
    {
      "cell_type": "markdown",
      "metadata": {
        "id": "view-in-github",
        "colab_type": "text"
      },
      "source": [
        "<a href=\"https://colab.research.google.com/github/mehreengillani/Data602/blob/main/Gradebook_classActivity_Mehreen.ipynb\" target=\"_parent\"><img src=\"https://colab.research.google.com/assets/colab-badge.svg\" alt=\"Open In Colab\"/></a>"
      ]
    },
    {
      "cell_type": "markdown",
      "source": [
        "Activity: Student Gradebook System\n",
        "Objective:\n",
        "Students will work in groups (4-5) to create a simple gradebook using Python. This activity\n",
        "reinforces Python basics, lists, and dictionaries.\n",
        "Instructions:\n",
        "1. Form Groups: Divide into small teams (4-5).\n",
        "2. Scenario: Each group is responsible for managing a gradebook system that stores\n",
        "student names and their corresponding grades.\n",
        "3. Task (30-40 minutes): Write a Python program that allows users to:\n",
        "○\n",
        "Add a student and their grades.\n",
        "○\n",
        "Update a student’s grades.\n",
        "○\n",
        "Calculate and display each student’s average grade.\n",
        "○\n",
        "Display all students and their grades in a readable format.\n",
        "○\n",
        "Optional: expand upon the program as you like (time permitting!)\n",
        "i. Handle edge cases (no grade entered, invalid inputs)\n",
        "ii. Add a letter grade conversion (93-100 = A, etc)\n",
        "iii. Menu system to interact with the gradebook\n",
        "4. Presentation (15-20 minutes):\n",
        "Each group will:\n",
        "○\n",
        "Present their code to the class.\n",
        "○\n",
        "Explain their approach, challenges faced, and any enhancements made.\n",
        "Starter Code:\n",
        "gradebook = {}\n",
        "def add\n",
        "_\n",
        "student(name, grades):\n",
        "# Add student to gradebook\n",
        "def update\n",
        "_grades(name, new\n",
        "_grades):\n",
        "# Update student's grades\n",
        "def calculate\n",
        "_\n",
        "average(name):\n",
        "# Calculate and return average grade\n",
        "def display_gradebook():\n",
        "# Print all students, their grades, and averages\n",
        "# Example usage\n",
        "add\n",
        "_\n",
        "student(\"Alice\"\n",
        "display_gradebook()\n",
        ", [85, 90, 78])"
      ],
      "metadata": {
        "id": "_sDjsi5n99Uc"
      }
    },
    {
      "cell_type": "code",
      "source": [
        "gradebook = {}\n",
        "#Add student to gradebook\n",
        "def add_student(name, grades):\n",
        "    gradebook[name] = grades\n",
        "    print(f\"Added student {name} with grades: {grades}\")"
      ],
      "metadata": {
        "id": "pIXW8cy--cNu"
      },
      "execution_count": 3,
      "outputs": []
    },
    {
      "cell_type": "code",
      "source": [
        "#update existing student\n",
        "def update_grades(name, new_grades):\n",
        "    if name in gradebook:\n",
        "        gradebook[name] = new_grades\n",
        "        print(f\"Updated grades for {name} to: {new_grades}\")\n",
        "    else:\n",
        "        print(f\"Student {name} not found.\")"
      ],
      "metadata": {
        "id": "W5_JPxco-yCU"
      },
      "execution_count": 5,
      "outputs": []
    },
    {
      "cell_type": "code",
      "source": [
        "#Calculate and return average grade\n",
        "def calculate_average(name):\n",
        "    if name in gradebook and gradebook[name]:\n",
        "        return sum(gradebook[name]) / len(gradebook[name])\n",
        "    elif name in gradebook and not gradebook[name]:\n",
        "        return \"No grades entered\"\n",
        "    else:\n",
        "        return \"Student not found\""
      ],
      "metadata": {
        "id": "rNhvVcJi-4Oq"
      },
      "execution_count": 6,
      "outputs": []
    },
    {
      "cell_type": "code",
      "metadata": {
        "id": "a3228a43"
      },
      "source": [
        "# Display gradebook\n",
        "def display_gradebook():\n",
        "    print(\"\\n--- Gradebook ---\")\n",
        "    if not gradebook:\n",
        "        print(\"Gradebook is empty.\")\n",
        "        return\n",
        "    for name, grades in gradebook.items():\n",
        "        average = calculate_average(name)\n",
        "        print(f\"Student: {name}, Grades: {grades}, Average: {average:.2f}\" if isinstance(average, float) else f\"Student: {name}, Grades: {grades}, Average: {average}\")\n",
        "    print(\"-----------------\")\n",
        "\n"
      ],
      "execution_count": 7,
      "outputs": []
    },
    {
      "cell_type": "code",
      "execution_count": 8,
      "metadata": {
        "colab": {
          "base_uri": "https://localhost:8080/"
        },
        "id": "8jqg-K_a9767",
        "outputId": "a726a67f-d651-457b-b89d-efa43af1d33a"
      },
      "outputs": [
        {
          "output_type": "stream",
          "name": "stdout",
          "text": [
            "Added student Alice with grades: [85, 90, 78]\n",
            "\n",
            "--- Updating Alice's grades ---\n",
            "Updated grades for Alice to: [90, 95, 88]\n",
            "\n",
            "--- Gradebook ---\n",
            "Student: Alice, Grades: [90, 95, 88], Average: 91.00\n",
            "-----------------\n",
            "\n",
            "--- Attempting to update a non-existent student's grades ---\n",
            "Student David not found.\n",
            "\n",
            "--- Gradebook ---\n",
            "Student: Alice, Grades: [90, 95, 88], Average: 91.00\n",
            "-----------------\n"
          ]
        }
      ],
      "source": [
        "# Initialize gradebook with an entry for Alice for demonstration purposes within this cell\n",
        "add_student(\"Alice\", [85, 90, 78])\n",
        "\n",
        "# Demonstrate using the update_grades function\n",
        "print(\"\\n--- Updating Alice's grades ---\")\n",
        "update_grades(\"Alice\", [90, 95, 88])\n",
        "display_gradebook()\n",
        "\n",
        "print(\"\\n--- Attempting to update a non-existent student's grades ---\")\n",
        "update_grades(\"David\", [70, 75, 80])\n",
        "display_gradebook()"
      ]
    }
  ]
}